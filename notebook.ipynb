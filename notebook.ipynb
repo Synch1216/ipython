{
 "metadata": {
  "name": "",
  "signature": "sha256:c9b95df9855cf820714854206ed6d45f35932294144823f3a42a86843cf10742"
 },
 "nbformat": 3,
 "nbformat_minor": 0,
 "worksheets": [
  {
   "cells": [
    {
     "cell_type": "code",
     "collapsed": false,
     "input": [
      "import sys\n",
      "import io"
     ],
     "language": "python",
     "metadata": {},
     "outputs": [],
     "prompt_number": 9
    },
    {
     "cell_type": "code",
     "collapsed": false,
     "input": [
      "sys.version"
     ],
     "language": "python",
     "metadata": {},
     "outputs": [
      {
       "metadata": {},
       "output_type": "pyout",
       "prompt_number": 10,
       "text": [
        "'2.7.9 | 64-bit | (default, Jun 30 2015, 19:41:21) \\n[GCC 4.2.1 (Based on Apple Inc. build 5658) (LLVM build 2335.6)]'"
       ]
      }
     ],
     "prompt_number": 10
    },
    {
     "cell_type": "heading",
     "level": 1,
     "metadata": {},
     "source": [
      "Lists In Python"
     ]
    },
    {
     "cell_type": "code",
     "collapsed": false,
     "input": [
      "lists= [1,2,3,4,5]\n",
      "lists.append(4)\n",
      "print lists"
     ],
     "language": "python",
     "metadata": {},
     "outputs": [
      {
       "output_type": "stream",
       "stream": "stdout",
       "text": [
        "[1, 2, 3, 4, 5, 4]\n"
       ]
      }
     ],
     "prompt_number": 16
    },
    {
     "cell_type": "markdown",
     "metadata": {},
     "source": [
      "In the above example I manipulated the list by adding a number to the end of the list."
     ]
    },
    {
     "cell_type": "code",
     "collapsed": false,
     "input": [
      "print (lists.count(4))"
     ],
     "language": "python",
     "metadata": {},
     "outputs": [
      {
       "output_type": "stream",
       "stream": "stdout",
       "text": [
        "2\n"
       ]
      }
     ],
     "prompt_number": 18
    },
    {
     "cell_type": "markdown",
     "metadata": {},
     "source": [
      "In the above example, I counted how many \"4\"s are in the list."
     ]
    },
    {
     "cell_type": "code",
     "collapsed": false,
     "input": [
      "besties= ['Stephen', 'Kadierdre', 'Me']\n",
      "besties.sort()\n",
      "print(besties)"
     ],
     "language": "python",
     "metadata": {},
     "outputs": [
      {
       "output_type": "stream",
       "stream": "stdout",
       "text": [
        "['Kadierdre', 'Me', 'Stephen']\n"
       ]
      }
     ],
     "prompt_number": 20
    },
    {
     "cell_type": "markdown",
     "metadata": {},
     "source": [
      "In the above example I put a list in alphabetical order."
     ]
    },
    {
     "cell_type": "code",
     "collapsed": false,
     "input": [],
     "language": "python",
     "metadata": {},
     "outputs": []
    }
   ],
   "metadata": {}
  }
 ]
}